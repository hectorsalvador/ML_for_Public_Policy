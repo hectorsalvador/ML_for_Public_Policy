{
 "cells": [
  {
   "cell_type": "code",
   "execution_count": 1,
   "metadata": {
    "collapsed": false
   },
   "outputs": [],
   "source": [
    "%matplotlib inline\n",
    "import math\n",
    "import pandas as pd\n",
    "from pipeline import reading, explore, preprocess, features, classify\n",
    "from sklearn.cross_validation import train_test_split"
   ]
  },
  {
   "cell_type": "code",
   "execution_count": 2,
   "metadata": {
    "collapsed": true
   },
   "outputs": [],
   "source": [
    "fts = ['RevolvingUtilizationOfUnsecuredLines', \n",
    "            'age', 'NumberOfTime30-59DaysPastDueNotWorse', 'DebtRatio', \n",
    "            'MonthlyIncome', 'NumberOfOpenCreditLinesAndLoans', \n",
    "            'NumberOfTimes90DaysLate', 'NumberRealEstateLoansOrLines', \n",
    "            'NumberOfTime60-89DaysPastDueNotWorse', 'NumberOfDependents']\n",
    "\n",
    "label = 'SeriousDlqin2yrs'\n",
    "filename = 'pipeline/data/cs-training.csv'"
   ]
  },
  {
   "cell_type": "code",
   "execution_count": 3,
   "metadata": {
    "collapsed": true
   },
   "outputs": [],
   "source": [
    "# read dataset\n",
    "df = reading.read(filename)"
   ]
  },
  {
   "cell_type": "code",
   "execution_count": 4,
   "metadata": {
    "collapsed": false
   },
   "outputs": [],
   "source": [
    "# divide dataset to train and test\n",
    "xtrain, xtest, ytrain, ytest = train_test_split(df[fts], df[label])\n",
    "train = xtrain.copy()\n",
    "train[label] = ytrain\n",
    "test = xtest.copy()\n",
    "test[label] = ytest\n",
    "df = train"
   ]
  },
  {
   "cell_type": "code",
   "execution_count": 5,
   "metadata": {
    "collapsed": false,
    "scrolled": false
   },
   "outputs": [],
   "source": [
    "# generate statistics and generic exploration histograms\n",
    "# explore.statistics_csv(df)\n",
    "# explore.plots_csv(df)"
   ]
  },
  {
   "cell_type": "code",
   "execution_count": 6,
   "metadata": {
    "collapsed": false
   },
   "outputs": [
    {
     "name": "stdout",
     "output_type": "stream",
     "text": [
      "0) RevolvingUtilizationOfUnsecuredLines has null values: False.\n",
      "1) age has null values: False.\n",
      "2) NumberOfTime30-59DaysPastDueNotWorse has null values: False.\n",
      "3) DebtRatio has null values: False.\n",
      "4) MonthlyIncome has null values: True.\n",
      "  Filling nulls with mean.\n",
      "5) NumberOfOpenCreditLinesAndLoans has null values: False.\n",
      "6) NumberOfTimes90DaysLate has null values: False.\n",
      "7) NumberRealEstateLoansOrLines has null values: False.\n",
      "8) NumberOfTime60-89DaysPastDueNotWorse has null values: False.\n",
      "9) NumberOfDependents has null values: True.\n",
      "  Filling nulls with mean.\n",
      "10) SeriousDlqin2yrs has null values: False.\n"
     ]
    }
   ],
   "source": [
    "# impute null values with mean value and transform income to log(income)\n",
    "preprocess.impute_csv(df)\n",
    "preprocess.transform_feature(df, 'MonthlyIncome', lambda x: math.log(x + 1))"
   ]
  },
  {
   "cell_type": "code",
   "execution_count": 7,
   "metadata": {
    "collapsed": false
   },
   "outputs": [],
   "source": [
    "# create a feature of income quartile\n",
    "features.binning(df, 'f(MonthlyIncome)', 'quantiles', [0, 0.25, 0.5, 0.75, 1])"
   ]
  },
  {
   "cell_type": "code",
   "execution_count": 8,
   "metadata": {
    "collapsed": true
   },
   "outputs": [],
   "source": [
    "models = ['LR', 'KNN', 'DT', 'SVM', 'RF', 'GB']\n"
   ]
  },
  {
   "cell_type": "code",
   "execution_count": null,
   "metadata": {
    "collapsed": false,
    "scrolled": false
   },
   "outputs": [
    {
     "name": "stdout",
     "output_type": "stream",
     "text": [
      "LR\n",
      "Finished running LR\n",
      "Best model was: LogisticRegression(C=10, class_weight=None, dual=False, fit_intercept=True,\n",
      "          intercept_scaling=1, max_iter=100, multi_class='ovr', n_jobs=1,\n",
      "          penalty='l2', random_state=None, solver='liblinear', tol=0.0001,\n",
      "          verbose=0, warm_start=False), with auc = 0.6243467098167953.\n",
      "\n",
      "KNN\n"
     ]
    }
   ],
   "source": [
    "results, models = classify.classify(df[fts], df[label], models, 3, 0.05)"
   ]
  },
  {
   "cell_type": "code",
   "execution_count": null,
   "metadata": {
    "collapsed": false
   },
   "outputs": [],
   "source": [
    "results\n"
   ]
  },
  {
   "cell_type": "code",
   "execution_count": null,
   "metadata": {
    "collapsed": false
   },
   "outputs": [],
   "source": [
    "models"
   ]
  },
  {
   "cell_type": "code",
   "execution_count": null,
   "metadata": {
    "collapsed": true
   },
   "outputs": [],
   "source": []
  }
 ],
 "metadata": {
  "kernelspec": {
   "display_name": "Python 3",
   "language": "python",
   "name": "python3"
  },
  "language_info": {
   "codemirror_mode": {
    "name": "ipython",
    "version": 3
   },
   "file_extension": ".py",
   "mimetype": "text/x-python",
   "name": "python",
   "nbconvert_exporter": "python",
   "pygments_lexer": "ipython3",
   "version": "3.5.1"
  }
 },
 "nbformat": 4,
 "nbformat_minor": 0
}
