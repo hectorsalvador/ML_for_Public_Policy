{
 "cells": [
  {
   "cell_type": "markdown",
   "metadata": {},
   "source": [
    "# Machine Learning for Public Policy - Homework 3"
   ]
  },
  {
   "cell_type": "code",
   "execution_count": 1,
   "metadata": {
    "collapsed": true
   },
   "outputs": [],
   "source": [
    "### Héctor Salvador López\n",
    "### Code for the pipeline was significantly inspired on:\n",
    "### /rayidghani/magicloops/blob/master/magicloops.py\n",
    "### /BridgitD/Machine-Learning-Pipeline/blob/master/pipeline.py\n",
    "### /danilito19/CAPP-ML-dla/blob/master/pa3/workflow.py\n",
    "### /ladyson/ml-for-public-policy/blob/master/PA3/pipeline.py\n",
    "### /demunger/CAPP30254/blob/master/HW3/hw3.py\n",
    "### /aldengolab/ML-basics/blob/master/pipeline/model.py"
   ]
  },
  {
   "cell_type": "code",
   "execution_count": 2,
   "metadata": {
    "collapsed": true
   },
   "outputs": [],
   "source": [
    "%matplotlib inline\n",
    "import math\n",
    "import pandas as pd\n",
    "from pipeline import reading, explore, preprocess, features, classify\n",
    "from sklearn.cross_validation import train_test_split"
   ]
  },
  {
   "cell_type": "markdown",
   "metadata": {},
   "source": [
    "#### We define filename, features, and label for this dataset:"
   ]
  },
  {
   "cell_type": "code",
   "execution_count": 3,
   "metadata": {
    "collapsed": true
   },
   "outputs": [],
   "source": [
    "filename = 'pipeline/data/cs-training.csv'\n",
    "fts = ['RevolvingUtilizationOfUnsecuredLines', \n",
    "            'age', 'NumberOfTime30-59DaysPastDueNotWorse', 'DebtRatio', \n",
    "            'MonthlyIncome', 'NumberOfOpenCreditLinesAndLoans', \n",
    "            'NumberOfTimes90DaysLate', 'NumberRealEstateLoansOrLines', \n",
    "            'NumberOfTime60-89DaysPastDueNotWorse', 'NumberOfDependents']\n",
    "label = 'SeriousDlqin2yrs'"
   ]
  },
  {
   "cell_type": "code",
   "execution_count": 4,
   "metadata": {
    "collapsed": false
   },
   "outputs": [],
   "source": [
    "# Read dataset\n",
    "df = reading.read(filename)"
   ]
  },
  {
   "cell_type": "code",
   "execution_count": 5,
   "metadata": {
    "collapsed": false
   },
   "outputs": [],
   "source": [
    "# Divide dataset to train and test\n",
    "xtrain, xtest, ytrain, ytest = train_test_split(df[fts], df[label])\n",
    "train = pd.concat([ytrain, xtrain], axis = 1)\n",
    "test = pd.concat([ytest, xtest], axis = 1)\n",
    "df = train"
   ]
  },
  {
   "cell_type": "code",
   "execution_count": 6,
   "metadata": {
    "collapsed": false,
    "scrolled": true
   },
   "outputs": [
    {
     "name": "stdout",
     "output_type": "stream",
     "text": [
      "Observations:\n",
      "112500\n",
      "\n",
      "11 features:\n",
      "    1) SeriousDlqin2yrs\n",
      "    2) RevolvingUtilizationOfUnsecuredLines\n",
      "    3) age\n",
      "    4) NumberOfTime30-59DaysPastDueNotWorse\n",
      "    5) DebtRatio\n",
      "    6) MonthlyIncome\n",
      "    7) NumberOfOpenCreditLinesAndLoans\n",
      "    8) NumberOfTimes90DaysLate\n",
      "    9) NumberRealEstateLoansOrLines\n",
      "    10) NumberOfTime60-89DaysPastDueNotWorse\n",
      "    11) NumberOfDependents\n",
      "\n",
      "\n",
      "Sample observations:\n",
      "        SeriousDlqin2yrs  RevolvingUtilizationOfUnsecuredLines  age  \\\n",
      "104305                 0                              0.036359   37   \n",
      "141464                 0                              0.721759   58   \n",
      "55164                  0                              0.757706   46   \n",
      "46738                  0                              0.219536   40   \n",
      "38236                  0                              0.000000   38   \n",
      "\n",
      "        NumberOfTime30-59DaysPastDueNotWorse    DebtRatio  MonthlyIncome  \\\n",
      "104305                                     0     0.261781         5389.0   \n",
      "141464                                     0     1.089908         1089.0   \n",
      "55164                                      0     0.706346         4947.0   \n",
      "46738                                      0     0.065722         6283.0   \n",
      "38236                                      0  1274.000000            0.0   \n",
      "\n",
      "        NumberOfOpenCreditLinesAndLoans  NumberOfTimes90DaysLate  \\\n",
      "104305                                6                        0   \n",
      "141464                                6                        0   \n",
      "55164                                10                        0   \n",
      "46738                                 8                        0   \n",
      "38236                                 5                        0   \n",
      "\n",
      "        NumberRealEstateLoansOrLines  NumberOfTime60-89DaysPastDueNotWorse  \\\n",
      "104305                             0                                     0   \n",
      "141464                             1                                     0   \n",
      "55164                              3                                     0   \n",
      "46738                              0                                     0   \n",
      "38236                              1                                     0   \n",
      "\n",
      "        NumberOfDependents  \n",
      "104305                 1.0  \n",
      "141464                 1.0  \n",
      "55164                  0.0  \n",
      "46738                  4.0  \n",
      "38236                  2.0  \n",
      "\n"
     ]
    }
   ],
   "source": [
    "# generate statistics and generic exploration histograms\n",
    "explore.basics(df)"
   ]
  },
  {
   "cell_type": "code",
   "execution_count": 7,
   "metadata": {
    "collapsed": false,
    "scrolled": true
   },
   "outputs": [
    {
     "name": "stdout",
     "output_type": "stream",
     "text": [
      "Descriptive statistics:\n",
      "              SeriousDlqin2yrs  RevolvingUtilizationOfUnsecuredLines  \\\n",
      "count            112500.000000                         112500.000000   \n",
      "mean                  0.066791                              5.873784   \n",
      "std                   0.249661                            260.692098   \n",
      "min                   0.000000                              0.000000   \n",
      "25%                   0.000000                              0.030023   \n",
      "50%                   0.000000                              0.154193   \n",
      "75%                   0.000000                              0.556885   \n",
      "max                   1.000000                          50708.000000   \n",
      "median                0.000000                              0.154193   \n",
      "skew                  3.470439                            104.903669   \n",
      "kurtosis             10.044123                          15805.636945   \n",
      "missing_vals          0.000000                              0.000000   \n",
      "\n",
      "                        age  NumberOfTime30-59DaysPastDueNotWorse  \\\n",
      "count         112500.000000                         112500.000000   \n",
      "mean              52.296524                              0.411289   \n",
      "std               14.764436                              4.092026   \n",
      "min               21.000000                              0.000000   \n",
      "25%               41.000000                              0.000000   \n",
      "50%               52.000000                              0.000000   \n",
      "75%               63.000000                              0.000000   \n",
      "max              109.000000                             98.000000   \n",
      "median            52.000000                              0.000000   \n",
      "skew               0.189116                             23.130223   \n",
      "kurtosis          -0.497879                            547.980368   \n",
      "missing_vals       0.000000                              0.000000   \n",
      "\n",
      "                  DebtRatio  MonthlyIncome  NumberOfOpenCreditLinesAndLoans  \\\n",
      "count         112500.000000   9.022200e+04                    112500.000000   \n",
      "mean             356.568892   6.654583e+03                         8.466382   \n",
      "std             2260.473368   1.200553e+04                         5.155533   \n",
      "min                0.000000   0.000000e+00                         0.000000   \n",
      "25%                0.174208   3.400000e+03                         5.000000   \n",
      "50%                0.366043   5.400000e+03                         8.000000   \n",
      "75%                0.865622   8.250000e+03                        11.000000   \n",
      "max           329664.000000   1.794060e+06                        58.000000   \n",
      "median             0.366043   5.400000e+03                         8.000000   \n",
      "skew              92.614701   8.140911e+01                         1.217532   \n",
      "kurtosis       12090.748978   9.932927e+03                         3.099878   \n",
      "missing_vals       0.000000   2.227800e+04                         0.000000   \n",
      "\n",
      "              NumberOfTimes90DaysLate  NumberRealEstateLoansOrLines  \\\n",
      "count                   112500.000000                 112500.000000   \n",
      "mean                         0.258107                      1.018240   \n",
      "std                          4.068412                      1.134736   \n",
      "min                          0.000000                      0.000000   \n",
      "25%                          0.000000                      0.000000   \n",
      "50%                          0.000000                      1.000000   \n",
      "75%                          0.000000                      2.000000   \n",
      "max                         98.000000                     54.000000   \n",
      "median                       0.000000                      1.000000   \n",
      "skew                        23.643098                      3.673049   \n",
      "kurtosis                   564.440131                     68.746701   \n",
      "missing_vals                 0.000000                      0.000000   \n",
      "\n",
      "              NumberOfTime60-89DaysPastDueNotWorse  NumberOfDependents  \n",
      "count                                112500.000000       109554.000000  \n",
      "mean                                      0.231173            0.761843  \n",
      "std                                       4.053640            1.116474  \n",
      "min                                       0.000000            0.000000  \n",
      "25%                                       0.000000            0.000000  \n",
      "50%                                       0.000000            0.000000  \n",
      "75%                                       0.000000            1.000000  \n",
      "max                                      98.000000           20.000000  \n",
      "median                                    0.000000            0.000000  \n",
      "skew                                     23.911299            1.574768  \n",
      "kurtosis                                573.369430            3.043537  \n",
      "missing_vals                              0.000000         2946.000000  \n",
      "\n"
     ]
    }
   ],
   "source": [
    "explore.desc_statistics(df)"
   ]
  },
  {
   "cell_type": "code",
   "execution_count": 8,
   "metadata": {
    "collapsed": false
   },
   "outputs": [
    {
     "name": "stdout",
     "output_type": "stream",
     "text": [
      "Correlation matrix:\n",
      "                                      SeriousDlqin2yrs  \\\n",
      "SeriousDlqin2yrs                              1.000000   \n",
      "RevolvingUtilizationOfUnsecuredLines         -0.002931   \n",
      "age                                          -0.115787   \n",
      "NumberOfTime30-59DaysPastDueNotWorse          0.118711   \n",
      "DebtRatio                                    -0.008133   \n",
      "MonthlyIncome                                -0.023181   \n",
      "NumberOfOpenCreditLinesAndLoans              -0.028400   \n",
      "NumberOfTimes90DaysLate                       0.111007   \n",
      "NumberRealEstateLoansOrLines                 -0.005712   \n",
      "NumberOfTime60-89DaysPastDueNotWorse          0.094859   \n",
      "NumberOfDependents                            0.047958   \n",
      "\n",
      "                                      RevolvingUtilizationOfUnsecuredLines  \\\n",
      "SeriousDlqin2yrs                                                 -0.002931   \n",
      "RevolvingUtilizationOfUnsecuredLines                              1.000000   \n",
      "age                                                              -0.004329   \n",
      "NumberOfTime30-59DaysPastDueNotWorse                             -0.001235   \n",
      "DebtRatio                                                         0.001998   \n",
      "MonthlyIncome                                                     0.009620   \n",
      "NumberOfOpenCreditLinesAndLoans                                  -0.009870   \n",
      "NumberOfTimes90DaysLate                                          -0.001150   \n",
      "NumberRealEstateLoansOrLines                                      0.007489   \n",
      "NumberOfTime60-89DaysPastDueNotWorse                             -0.000971   \n",
      "NumberOfDependents                                                0.001066   \n",
      "\n",
      "                                           age  \\\n",
      "SeriousDlqin2yrs                     -0.115787   \n",
      "RevolvingUtilizationOfUnsecuredLines -0.004329   \n",
      "age                                   1.000000   \n",
      "NumberOfTime30-59DaysPastDueNotWorse -0.060504   \n",
      "DebtRatio                             0.022747   \n",
      "MonthlyIncome                         0.046234   \n",
      "NumberOfOpenCreditLinesAndLoans       0.147193   \n",
      "NumberOfTimes90DaysLate              -0.058626   \n",
      "NumberRealEstateLoansOrLines          0.032175   \n",
      "NumberOfTime60-89DaysPastDueNotWorse -0.054568   \n",
      "NumberOfDependents                   -0.216511   \n",
      "\n",
      "                                      NumberOfTime30-59DaysPastDueNotWorse  \\\n",
      "SeriousDlqin2yrs                                                  0.118711   \n",
      "RevolvingUtilizationOfUnsecuredLines                             -0.001235   \n",
      "age                                                              -0.060504   \n",
      "NumberOfTime30-59DaysPastDueNotWorse                              1.000000   \n",
      "DebtRatio                                                        -0.005984   \n",
      "MonthlyIncome                                                    -0.011337   \n",
      "NumberOfOpenCreditLinesAndLoans                                  -0.053356   \n",
      "NumberOfTimes90DaysLate                                           0.982940   \n",
      "NumberRealEstateLoansOrLines                                     -0.029640   \n",
      "NumberOfTime60-89DaysPastDueNotWorse                              0.986530   \n",
      "NumberOfDependents                                               -0.004740   \n",
      "\n",
      "                                      DebtRatio  MonthlyIncome  \\\n",
      "SeriousDlqin2yrs                      -0.008133      -0.023181   \n",
      "RevolvingUtilizationOfUnsecuredLines   0.001998       0.009620   \n",
      "age                                    0.022747       0.046234   \n",
      "NumberOfTime30-59DaysPastDueNotWorse  -0.005984      -0.011337   \n",
      "DebtRatio                              1.000000      -0.033424   \n",
      "MonthlyIncome                         -0.033424       1.000000   \n",
      "NumberOfOpenCreditLinesAndLoans        0.044800       0.111122   \n",
      "NumberOfTimes90DaysLate               -0.007602      -0.014532   \n",
      "NumberRealEstateLoansOrLines           0.110428       0.149550   \n",
      "NumberOfTime60-89DaysPastDueNotWorse  -0.006839      -0.012607   \n",
      "NumberOfDependents                    -0.037259       0.070194   \n",
      "\n",
      "                                      NumberOfOpenCreditLinesAndLoans  \\\n",
      "SeriousDlqin2yrs                                            -0.028400   \n",
      "RevolvingUtilizationOfUnsecuredLines                        -0.009870   \n",
      "age                                                          0.147193   \n",
      "NumberOfTime30-59DaysPastDueNotWorse                        -0.053356   \n",
      "DebtRatio                                                    0.044800   \n",
      "MonthlyIncome                                                0.111122   \n",
      "NumberOfOpenCreditLinesAndLoans                              1.000000   \n",
      "NumberOfTimes90DaysLate                                     -0.078622   \n",
      "NumberRealEstateLoansOrLines                                 0.432467   \n",
      "NumberOfTime60-89DaysPastDueNotWorse                        -0.069221   \n",
      "NumberOfDependents                                           0.062943   \n",
      "\n",
      "                                      NumberOfTimes90DaysLate  \\\n",
      "SeriousDlqin2yrs                                     0.111007   \n",
      "RevolvingUtilizationOfUnsecuredLines                -0.001150   \n",
      "age                                                 -0.058626   \n",
      "NumberOfTime30-59DaysPastDueNotWorse                 0.982940   \n",
      "DebtRatio                                           -0.007602   \n",
      "MonthlyIncome                                       -0.014532   \n",
      "NumberOfOpenCreditLinesAndLoans                     -0.078622   \n",
      "NumberOfTimes90DaysLate                              1.000000   \n",
      "NumberRealEstateLoansOrLines                        -0.044803   \n",
      "NumberOfTime60-89DaysPastDueNotWorse                 0.992418   \n",
      "NumberOfDependents                                  -0.011828   \n",
      "\n",
      "                                      NumberRealEstateLoansOrLines  \\\n",
      "SeriousDlqin2yrs                                         -0.005712   \n",
      "RevolvingUtilizationOfUnsecuredLines                      0.007489   \n",
      "age                                                       0.032175   \n",
      "NumberOfTime30-59DaysPastDueNotWorse                     -0.029640   \n",
      "DebtRatio                                                 0.110428   \n",
      "MonthlyIncome                                             0.149550   \n",
      "NumberOfOpenCreditLinesAndLoans                           0.432467   \n",
      "NumberOfTimes90DaysLate                                  -0.044803   \n",
      "NumberRealEstateLoansOrLines                              1.000000   \n",
      "NumberOfTime60-89DaysPastDueNotWorse                     -0.038650   \n",
      "NumberOfDependents                                        0.122627   \n",
      "\n",
      "                                      NumberOfTime60-89DaysPastDueNotWorse  \\\n",
      "SeriousDlqin2yrs                                                  0.094859   \n",
      "RevolvingUtilizationOfUnsecuredLines                             -0.000971   \n",
      "age                                                              -0.054568   \n",
      "NumberOfTime30-59DaysPastDueNotWorse                              0.986530   \n",
      "DebtRatio                                                        -0.006839   \n",
      "MonthlyIncome                                                    -0.012607   \n",
      "NumberOfOpenCreditLinesAndLoans                                  -0.069221   \n",
      "NumberOfTimes90DaysLate                                           0.992418   \n",
      "NumberRealEstateLoansOrLines                                     -0.038650   \n",
      "NumberOfTime60-89DaysPastDueNotWorse                              1.000000   \n",
      "NumberOfDependents                                               -0.012445   \n",
      "\n",
      "                                      NumberOfDependents  \n",
      "SeriousDlqin2yrs                                0.047958  \n",
      "RevolvingUtilizationOfUnsecuredLines            0.001066  \n",
      "age                                            -0.216511  \n",
      "NumberOfTime30-59DaysPastDueNotWorse           -0.004740  \n",
      "DebtRatio                                      -0.037259  \n",
      "MonthlyIncome                                   0.070194  \n",
      "NumberOfOpenCreditLinesAndLoans                 0.062943  \n",
      "NumberOfTimes90DaysLate                        -0.011828  \n",
      "NumberRealEstateLoansOrLines                    0.122627  \n",
      "NumberOfTime60-89DaysPastDueNotWorse           -0.012445  \n",
      "NumberOfDependents                              1.000000  \n",
      "\n"
     ]
    }
   ],
   "source": [
    "explore.corr(df)"
   ]
  },
  {
   "cell_type": "code",
   "execution_count": 9,
   "metadata": {
    "collapsed": false
   },
   "outputs": [
    {
     "name": "stdout",
     "output_type": "stream",
     "text": [
      "Check the current folder for default histograms of these features.\n"
     ]
    }
   ],
   "source": [
    "explore.plots(df)"
   ]
  },
  {
   "cell_type": "code",
   "execution_count": 57,
   "metadata": {
    "collapsed": false
   },
   "outputs": [
    {
     "data": {
      "text/plain": [
       "<matplotlib.axes._subplots.AxesSubplot at 0x10f58fc88>"
      ]
     },
     "execution_count": 57,
     "metadata": {},
     "output_type": "execute_result"
    },
    {
     "data": {
      "image/png": "[encoded data removed]",
      "text/plain": [
       "<matplotlib.figure.Figure at 0x10ed53cf8>"
      ]
     },
     "metadata": {},
     "output_type": "display_data"
    }
   ],
   "source": [
    "# dive deeper into histograms\n",
    "df.age.hist()"
   ]
  },
  {
   "cell_type": "code",
   "execution_count": 11,
   "metadata": {
    "collapsed": false
   },
   "outputs": [
    {
     "data": {
      "text/plain": [
       "<matplotlib.axes._subplots.AxesSubplot at 0x1094c3b70>"
      ]
     },
     "execution_count": 11,
     "metadata": {},
     "output_type": "execute_result"
    },
    {
     "data": {
      "image/png": "[encoded data removed]",
      "text/plain": [
       "<matplotlib.figure.Figure at 0x109406b70>"
      ]
     },
     "metadata": {},
     "output_type": "display_data"
    }
   ],
   "source": [
    "# A lot of observations below 3\n",
    "df[df.DebtRatio < 3].DebtRatio.hist(bins=40)"
   ]
  },
  {
   "cell_type": "code",
   "execution_count": 72,
   "metadata": {
    "collapsed": false
   },
   "outputs": [
    {
     "data": {
      "text/plain": [
       "0.0     3086\n",
       "1.0      178\n",
       "4.0      128\n",
       "2.0      126\n",
       "3.0      116\n",
       "5.0      104\n",
       "13.0      92\n",
       "9.0       91\n",
       "6.0       89\n",
       "10.0      87\n",
       "11.0      85\n",
       "12.0      82\n",
       "7.0       79\n",
       "8.0       79\n",
       "21.0      74\n",
       "Name: DebtRatio, dtype: int64"
      ]
     },
     "execution_count": 72,
     "metadata": {},
     "output_type": "execute_result"
    }
   ],
   "source": [
    "# A lot of observation are exact integers. Yet most observations are \n",
    "pd.value_counts(df.DebtRatio).sort_values(ascending=False).head(15)"
   ]
  },
  {
   "cell_type": "code",
   "execution_count": 73,
   "metadata": {
    "collapsed": false
   },
   "outputs": [
    {
     "data": {
      "text/plain": [
       "104305    (0.133, 0.287]\n",
       "141464        (0.467, 4]\n",
       "55164         (0.467, 4]\n",
       "46738         [0, 0.133]\n",
       "38236        (4, 329664]\n",
       "3055          (0.467, 4]\n",
       "129716    (0.133, 0.287]\n",
       "145062        [0, 0.133]\n",
       "41305         [0, 0.133]\n",
       "115644    (0.287, 0.467]\n",
       "45131     (0.133, 0.287]\n",
       "107839    (0.287, 0.467]\n",
       "148759       (4, 329664]\n",
       "98360        (4, 329664]\n",
       "15458         (0.467, 4]\n",
       "116118        [0, 0.133]\n",
       "72026         (0.467, 4]\n",
       "43396         (0.467, 4]\n",
       "51468         (0.467, 4]\n",
       "66167         [0, 0.133]\n",
       "139348    (0.287, 0.467]\n",
       "61587     (0.133, 0.287]\n",
       "76250        (4, 329664]\n",
       "48943     (0.133, 0.287]\n",
       "83962        (4, 329664]\n",
       "52398         [0, 0.133]\n",
       "86550     (0.287, 0.467]\n",
       "34876     (0.287, 0.467]\n",
       "35985        (4, 329664]\n",
       "149366    (0.133, 0.287]\n",
       "               ...      \n",
       "137249        (0.467, 4]\n",
       "85688        (4, 329664]\n",
       "85778     (0.133, 0.287]\n",
       "34548     (0.133, 0.287]\n",
       "124507    (0.133, 0.287]\n",
       "129576       (4, 329664]\n",
       "84466     (0.133, 0.287]\n",
       "7070          (0.467, 4]\n",
       "126669        [0, 0.133]\n",
       "31252     (0.133, 0.287]\n",
       "5046          (0.467, 4]\n",
       "38041     (0.287, 0.467]\n",
       "101424        [0, 0.133]\n",
       "107860        [0, 0.133]\n",
       "131768       (4, 329664]\n",
       "112630        [0, 0.133]\n",
       "117804    (0.133, 0.287]\n",
       "72121     (0.133, 0.287]\n",
       "21660     (0.287, 0.467]\n",
       "39716     (0.287, 0.467]\n",
       "135338        (0.467, 4]\n",
       "23847         [0, 0.133]\n",
       "3881      (0.133, 0.287]\n",
       "60427        (4, 329664]\n",
       "77613         (0.467, 4]\n",
       "127120        [0, 0.133]\n",
       "119814        [0, 0.133]\n",
       "112670    (0.133, 0.287]\n",
       "53382        (4, 329664]\n",
       "79235         (0.467, 4]\n",
       "Name: DebtRatio, dtype: category\n",
       "Categories (5, object): [[0, 0.133] < (0.133, 0.287] < (0.287, 0.467] < (0.467, 4] < (4, 329664]]"
      ]
     },
     "execution_count": 73,
     "metadata": {},
     "output_type": "execute_result"
    }
   ],
   "source": [
    "pd.qcut(df.DebtRatio, [0,0.2,0.4,0.6,0.8,1])"
   ]
  },
  {
   "cell_type": "code",
   "execution_count": 63,
   "metadata": {
    "collapsed": false
   },
   "outputs": [
    {
     "data": {
      "text/plain": [
       "<matplotlib.axes._subplots.AxesSubplot at 0x10b4208d0>"
      ]
     },
     "execution_count": 63,
     "metadata": {},
     "output_type": "execute_result"
    },
    {
     "data": {
      "image/png": "[encoded data removed]",
      "text/plain": [
       "<matplotlib.figure.Figure at 0x109ba15f8>"
      ]
     },
     "metadata": {},
     "output_type": "display_data"
    }
   ],
   "source": [
    "# Many zeros and ones (15,696), but also a lot of outliers. Total balance / sum of credit limits can't be greater than\n",
    "# 1, theorically...\n",
    "df[df.RevolvingUtilizationOfUnsecuredLines < 1].RevolvingUtilizationOfUnsecuredLines.hist(bins=15)"
   ]
  },
  {
   "cell_type": "code",
   "execution_count": 53,
   "metadata": {
    "collapsed": false
   },
   "outputs": [
    {
     "data": {
      "text/plain": [
       "0.000000    8105\n",
       "1.000000    7578\n",
       "1.000000      13\n",
       "0.796407       5\n",
       "0.954092       5\n",
       "Name: RevolvingUtilizationOfUnsecuredLines, dtype: int64"
      ]
     },
     "execution_count": 53,
     "metadata": {},
     "output_type": "execute_result"
    }
   ],
   "source": [
    "pd.value_counts(df.RevolvingUtilizationOfUnsecuredLines).sort_values(ascending=False).head(5)"
   ]
  },
  {
   "cell_type": "code",
   "execution_count": 58,
   "metadata": {
    "collapsed": false
   },
   "outputs": [
    {
     "data": {
      "text/plain": [
       "50708.0    1\n",
       "29110.0    1\n",
       "22198.0    1\n",
       "22000.0    1\n",
       "18300.0    1\n",
       "Name: RevolvingUtilizationOfUnsecuredLines, dtype: int64"
      ]
     },
     "execution_count": 58,
     "metadata": {},
     "output_type": "execute_result"
    }
   ],
   "source": [
    "# These ones don't make sense at all.\n",
    "pd.value_counts(df.RevolvingUtilizationOfUnsecuredLines).sort_index(ascending=False).head(5)"
   ]
  },
  {
   "cell_type": "code",
   "execution_count": 59,
   "metadata": {
    "collapsed": false
   },
   "outputs": [
    {
     "data": {
      "text/plain": [
       "0     94578\n",
       "1     11977\n",
       "2      3469\n",
       "3      1300\n",
       "4       570\n",
       "5       245\n",
       "98      187\n",
       "6        98\n",
       "7        36\n",
       "8        19\n",
       "9        11\n",
       "96        5\n",
       "10        3\n",
       "12        1\n",
       "11        1\n",
       "Name: NumberOfTime30-59DaysPastDueNotWorse, dtype: int64"
      ]
     },
     "execution_count": 59,
     "metadata": {},
     "output_type": "execute_result"
    }
   ],
   "source": [
    "# The 98 and 96 values are suspicious. How can someone be 98 times 30-59 days past due in two years?? Same goes for\n",
    "# 60-89, and over 90 days.\n",
    "pd.value_counts(df['NumberOfTime30-59DaysPastDueNotWorse'])"
   ]
  },
  {
   "cell_type": "code",
   "execution_count": 60,
   "metadata": {
    "collapsed": false
   },
   "outputs": [
    {
     "data": {
      "text/plain": [
       "0     106859\n",
       "1       4267\n",
       "2        821\n",
       "3        237\n",
       "98       187\n",
       "4         76\n",
       "5         27\n",
       "6         12\n",
       "7          6\n",
       "96         5\n",
       "11         1\n",
       "9          1\n",
       "8          1\n",
       "Name: NumberOfTime60-89DaysPastDueNotWorse, dtype: int64"
      ]
     },
     "execution_count": 60,
     "metadata": {},
     "output_type": "execute_result"
    }
   ],
   "source": [
    "pd.value_counts(df['NumberOfTime60-89DaysPastDueNotWorse'])"
   ]
  },
  {
   "cell_type": "code",
   "execution_count": 61,
   "metadata": {
    "collapsed": false,
    "scrolled": true
   },
   "outputs": [
    {
     "data": {
      "text/plain": [
       "0     106213\n",
       "1       3956\n",
       "2       1185\n",
       "3        493\n",
       "4        230\n",
       "98       187\n",
       "5         90\n",
       "6         62\n",
       "7         28\n",
       "8         18\n",
       "9         16\n",
       "10         7\n",
       "96         5\n",
       "11         4\n",
       "15         2\n",
       "12         1\n",
       "13         1\n",
       "14         1\n",
       "17         1\n",
       "Name: NumberOfTimes90DaysLate, dtype: int64"
      ]
     },
     "execution_count": 61,
     "metadata": {},
     "output_type": "execute_result"
    }
   ],
   "source": [
    "pd.value_counts(df.NumberOfTimes90DaysLate)"
   ]
  },
  {
   "cell_type": "code",
   "execution_count": null,
   "metadata": {
    "collapsed": false
   },
   "outputs": [],
   "source": []
  },
  {
   "cell_type": "code",
   "execution_count": null,
   "metadata": {
    "collapsed": true
   },
   "outputs": [],
   "source": []
  },
  {
   "cell_type": "code",
   "execution_count": 23,
   "metadata": {
    "collapsed": false
   },
   "outputs": [
    {
     "name": "stdout",
     "output_type": "stream",
     "text": [
      "0) SeriousDlqin2yrs has null values: False.\n",
      "1) RevolvingUtilizationOfUnsecuredLines has null values: False.\n",
      "2) age has null values: False.\n",
      "3) NumberOfTime30-59DaysPastDueNotWorse has null values: False.\n",
      "4) DebtRatio has null values: False.\n",
      "5) MonthlyIncome has null values: True.\n",
      "  Filling nulls with mean.\n",
      "6) NumberOfOpenCreditLinesAndLoans has null values: False.\n",
      "7) NumberOfTimes90DaysLate has null values: False.\n",
      "8) NumberRealEstateLoansOrLines has null values: False.\n",
      "9) NumberOfTime60-89DaysPastDueNotWorse has null values: False.\n",
      "10) NumberOfDependents has null values: True.\n",
      "  Filling nulls with mean.\n"
     ]
    }
   ],
   "source": [
    "# impute null values with mean value and transform income to log(income)\n",
    "preprocess.impute_csv(df)\n",
    "preprocess.transform_feature(df, 'MonthlyIncome', lambda x: math.log(x + 1))\n",
    "fts.append(df.keys()[-1])"
   ]
  },
  {
   "cell_type": "code",
   "execution_count": 24,
   "metadata": {
    "collapsed": false
   },
   "outputs": [],
   "source": [
    "# create a feature of income quartile\n",
    "features.binning(df, 'f(MonthlyIncome)', 'quantiles', [0, 0.25, 0.5, 0.75, 1])\n",
    "fts.append(df.keys()[-1])"
   ]
  },
  {
   "cell_type": "code",
   "execution_count": 18,
   "metadata": {
    "collapsed": true
   },
   "outputs": [],
   "source": [
    "#models = ['LR', 'KNN', 'DT', 'SVM', 'RF', 'GB']\n",
    "models = ['LR', 'DT', 'RF']"
   ]
  },
  {
   "cell_type": "code",
   "execution_count": 19,
   "metadata": {
    "collapsed": false,
    "scrolled": false
   },
   "outputs": [
    {
     "name": "stdout",
     "output_type": "stream",
     "text": [
      "LR\n",
      "Finished running LR\n",
      "Best model was: LogisticRegression(C=10, class_weight=None, dual=False, fit_intercept=True,\n",
      "          intercept_scaling=1, max_iter=100, multi_class='ovr', n_jobs=1,\n",
      "          penalty='l2', random_state=None, solver='liblinear', tol=0.0001,\n",
      "          verbose=0, warm_start=False), with auc = 0.6314434558249972.\n",
      "\n",
      "DT\n",
      "Finished running DT\n",
      "Best model was: DecisionTreeClassifier(class_weight=None, criterion='entropy', max_depth=100,\n",
      "            max_features='log2', max_leaf_nodes=None, min_samples_leaf=1,\n",
      "            min_samples_split=10, min_weight_fraction_leaf=0.0,\n",
      "            presort=False, random_state=None, splitter='best'), with auc = 0.761380195609501.\n",
      "\n",
      "RF\n",
      "Finished running RF\n",
      "Best model was: RandomForestClassifier(bootstrap=True, class_weight=None, criterion='gini',\n",
      "            max_depth=10, max_features='log2', max_leaf_nodes=None,\n",
      "            min_samples_leaf=1, min_samples_split=10,\n",
      "            min_weight_fraction_leaf=0.0, n_estimators=10, n_jobs=1,\n",
      "            oob_score=False, random_state=None, verbose=0,\n",
      "            warm_start=False), with auc = 0.779374426757871.\n",
      "\n"
     ]
    }
   ],
   "source": [
    "results, best_models = classify.classify(df[fts], df[label], models, 3, 0.05)"
   ]
  },
  {
   "cell_type": "code",
   "execution_count": 20,
   "metadata": {
    "collapsed": false
   },
   "outputs": [
    {
     "data": {
      "text/html": [
       "<div>\n",
       "<table border=\"1\" class=\"dataframe\">\n",
       "  <thead>\n",
       "    <tr style=\"text-align: right;\">\n",
       "      <th></th>\n",
       "      <th>time</th>\n",
       "      <th>avg_auc</th>\n",
       "      <th>params</th>\n",
       "    </tr>\n",
       "  </thead>\n",
       "  <tbody>\n",
       "    <tr>\n",
       "      <th>LR</th>\n",
       "      <td>1.39334</td>\n",
       "      <td>0.631443</td>\n",
       "      <td>{'C': 10, 'penalty': 'l2'}</td>\n",
       "    </tr>\n",
       "    <tr>\n",
       "      <th>DT</th>\n",
       "      <td>0.123689</td>\n",
       "      <td>0.76138</td>\n",
       "      <td>{'criterion': 'entropy', 'max_features': 'log2...</td>\n",
       "    </tr>\n",
       "    <tr>\n",
       "      <th>RF</th>\n",
       "      <td>0.832267</td>\n",
       "      <td>0.779374</td>\n",
       "      <td>{'max_features': 'log2', 'min_samples_split': ...</td>\n",
       "    </tr>\n",
       "  </tbody>\n",
       "</table>\n",
       "</div>"
      ],
      "text/plain": [
       "        time   avg_auc                                             params\n",
       "LR   1.39334  0.631443                         {'C': 10, 'penalty': 'l2'}\n",
       "DT  0.123689   0.76138  {'criterion': 'entropy', 'max_features': 'log2...\n",
       "RF  0.832267  0.779374  {'max_features': 'log2', 'min_samples_split': ..."
      ]
     },
     "execution_count": 20,
     "metadata": {},
     "output_type": "execute_result"
    }
   ],
   "source": [
    "results\n"
   ]
  },
  {
   "cell_type": "code",
   "execution_count": 21,
   "metadata": {
    "collapsed": false
   },
   "outputs": [
    {
     "data": {
      "text/plain": [
       "{'DT': DecisionTreeClassifier(class_weight=None, criterion='entropy', max_depth=100,\n",
       "             max_features='log2', max_leaf_nodes=None, min_samples_leaf=1,\n",
       "             min_samples_split=10, min_weight_fraction_leaf=0.0,\n",
       "             presort=False, random_state=None, splitter='best'),\n",
       " 'LR': LogisticRegression(C=10, class_weight=None, dual=False, fit_intercept=True,\n",
       "           intercept_scaling=1, max_iter=100, multi_class='ovr', n_jobs=1,\n",
       "           penalty='l2', random_state=None, solver='liblinear', tol=0.0001,\n",
       "           verbose=0, warm_start=False),\n",
       " 'RF': RandomForestClassifier(bootstrap=True, class_weight=None, criterion='gini',\n",
       "             max_depth=10, max_features='log2', max_leaf_nodes=None,\n",
       "             min_samples_leaf=1, min_samples_split=10,\n",
       "             min_weight_fraction_leaf=0.0, n_estimators=10, n_jobs=1,\n",
       "             oob_score=False, random_state=None, verbose=0,\n",
       "             warm_start=False)}"
      ]
     },
     "execution_count": 21,
     "metadata": {},
     "output_type": "execute_result"
    }
   ],
   "source": [
    "best_models\n"
   ]
  },
  {
   "cell_type": "code",
   "execution_count": 22,
   "metadata": {
    "collapsed": false
   },
   "outputs": [
    {
     "data": {
      "text/plain": [
       "<matplotlib.figure.Figure at 0x1095ebda0>"
      ]
     },
     "metadata": {},
     "output_type": "display_data"
    },
    {
     "data": {
      "image/png": "[encoded data removed]",
      "text/plain": [
       "<matplotlib.figure.Figure at 0x10a5032e8>"
      ]
     },
     "metadata": {},
     "output_type": "display_data"
    },
    {
     "data": {
      "text/plain": [
       "<matplotlib.figure.Figure at 0x103198f28>"
      ]
     },
     "metadata": {},
     "output_type": "display_data"
    },
    {
     "data": {
      "image/png": "[encoded data removed]",
      "text/plain": [
       "<matplotlib.figure.Figure at 0x10318e320>"
      ]
     },
     "metadata": {},
     "output_type": "display_data"
    },
    {
     "data": {
      "text/plain": [
       "<matplotlib.figure.Figure at 0x109a6a080>"
      ]
     },
     "metadata": {},
     "output_type": "display_data"
    },
    {
     "data": {
      "image/png": "[encoded data removed]",
      "text/plain": [
       "<matplotlib.figure.Figure at 0x109d5ebe0>"
      ]
     },
     "metadata": {},
     "output_type": "display_data"
    }
   ],
   "source": [
    "classify.gen_precision_recall_plots(df[fts], df[label], best_models)\n"
   ]
  },
  {
   "cell_type": "code",
   "execution_count": null,
   "metadata": {
    "collapsed": true
   },
   "outputs": [],
   "source": []
  }
 ],
 "metadata": {
  "kernelspec": {
   "display_name": "Python 3",
   "language": "python",
   "name": "python3"
  },
  "language_info": {
   "codemirror_mode": {
    "name": "ipython",
    "version": 3
   },
   "file_extension": ".py",
   "mimetype": "text/x-python",
   "name": "python",
   "nbconvert_exporter": "python",
   "pygments_lexer": "ipython3",
   "version": "3.5.1"
  }
 },
 "nbformat": 4,
 "nbformat_minor": 0
}
